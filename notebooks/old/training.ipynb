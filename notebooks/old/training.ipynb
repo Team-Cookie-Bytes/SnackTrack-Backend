{
 "cells": [
  {
   "cell_type": "code",
   "execution_count": 149,
   "metadata": {},
   "outputs": [],
   "source": [
    "import os\n",
    "import cv2\n",
    "import pandas as pd\n",
    "import torch\n",
    "import torch.nn as nn\n",
    "from torch import Tensor, load, save\n",
    "from torch.utils.data import DataLoader, Dataset, random_split\n",
    "from sklearn.preprocessing import MultiLabelBinarizer\n",
    "import torchvision\n",
    "import matplotlib.pyplot as plt\n",
    "import numpy as np\n",
    "import pickle\n",
    "import ssl"
   ]
  },
  {
   "cell_type": "code",
   "execution_count": 150,
   "metadata": {},
   "outputs": [],
   "source": [
    "ssl._create_default_https_context = ssl._create_unverified_context\n",
    "device = \"cpu\""
   ]
  },
  {
   "cell_type": "code",
   "execution_count": 151,
   "metadata": {},
   "outputs": [],
   "source": [
    "IMG_DIR = \"../data/nutrition5k_dataset_nosides/imagery/realsense_overhead/\"\n",
    "\n",
    "DATASET_DIR = \"../data/nutrition5k_dataset_nosides/\"\n",
    "PROCESSED_DIR = os.path.join(DATASET_DIR, \"processed\")\n",
    "\n",
    "INGREDIENTS_PATH = os.path.join(PROCESSED_DIR, \"ingredients_metadata.csv\")\n",
    "DISHES_PATH = os.path.join(PROCESSED_DIR, \"dishes_info.csv\")"
   ]
  },
  {
   "cell_type": "code",
   "execution_count": 152,
   "metadata": {},
   "outputs": [
    {
     "name": "stdout",
     "output_type": "stream",
     "text": [
      "['dish_1558109714', 'dish_1558109511', 'dish_1557862384']\n"
     ]
    }
   ],
   "source": [
    "def find_empty_directories(directory):\n",
    "    empty_dirs = []\n",
    "    \n",
    "    for dirpath, dirnames, files in os.walk(directory):\n",
    "        if not dirnames and not files:\n",
    "            empty_dirs.append(dirpath.split(\"/\")[-1])\n",
    "    \n",
    "    return empty_dirs\n",
    "\n",
    "empty_folder_names = find_empty_directories(IMG_DIR)\n",
    "print(empty_folder_names)"
   ]
  },
  {
   "cell_type": "code",
   "execution_count": 153,
   "metadata": {},
   "outputs": [
    {
     "name": "stdout",
     "output_type": "stream",
     "text": [
      "3493\n",
      "3490\n"
     ]
    }
   ],
   "source": [
    "df = pd.read_csv(DISHES_PATH)\n",
    "print(len(df[\"dish_id\"].index))\n",
    "print(len(df[~df[\"dish_id\"].isin(empty_folder_names)].index))\n"
   ]
  },
  {
   "cell_type": "code",
   "execution_count": 154,
   "metadata": {},
   "outputs": [
    {
     "name": "stdout",
     "output_type": "stream",
     "text": [
      "number of classes: 247\n"
     ]
    }
   ],
   "source": [
    "df = pd.read_csv(INGREDIENTS_PATH)\n",
    "labels = df[\"ingredient_id\"]\n",
    "\n",
    "label_binarizer = MultiLabelBinarizer()\n",
    "label_binarizer.fit([labels.to_list()])\n",
    "\n",
    "num_of_classes = label_binarizer.classes_.shape[0]\n",
    "print(\"number of classes:\", num_of_classes)\n",
    "# label_binarizer.transform([[2, 3]])[0]"
   ]
  },
  {
   "cell_type": "code",
   "execution_count": 155,
   "metadata": {},
   "outputs": [],
   "source": [
    "with open('mlb.pkl', 'wb') as f:\n",
    "    pickle.dump(label_binarizer, f)"
   ]
  },
  {
   "cell_type": "code",
   "execution_count": 156,
   "metadata": {},
   "outputs": [],
   "source": [
    "class IngredientDataset(Dataset):\n",
    "    def __init__(self, img_dir: str, ingredients_path: str, dish_info_path: str, transform=None, ignore_dish_ids=[]):\n",
    "        self.img_dir = img_dir\n",
    "\n",
    "        self.ing_df = pd.read_csv(ingredients_path)\n",
    "        self.dish_info_df = pd.read_csv(dish_info_path)\n",
    "\n",
    "        if len(ignore_dish_ids) > 0:\n",
    "            self.ing_df = self.ing_df[~self.ing_df[\"dish_id\"].isin(ignore_dish_ids)]\n",
    "            self.dish_info_df = self.dish_info_df[~self.dish_info_df[\"dish_id\"].isin(ignore_dish_ids)]\n",
    "\n",
    "        self.transform = transform\n",
    "\n",
    "        self.label_binarizer = MultiLabelBinarizer()\n",
    "        self.label_binarizer.fit([self.ing_df[\"ingredient_id\"].to_list()])\n",
    "\n",
    "    def __len__(self) -> int:\n",
    "        return len(self.dish_info_df)\n",
    "\n",
    "    def __getitem__(self, index):\n",
    "        dish = self.dish_info_df.iloc[index]\n",
    "        dish_id = dish[0]\n",
    "        # print(dish_id)\n",
    "\n",
    "        ingredient_ids = self.ing_df[self.ing_df[\"dish_id\"] == dish_id][\"ingredient_id\"].values\n",
    "        label_encoded = self.label_binarizer.transform([ingredient_ids])[0]\n",
    "        label_tensor = torch.LongTensor(label_encoded)\n",
    "        # print(label_tensor)\n",
    "\n",
    "        dish_weight = dish[2]\n",
    "        # print(dish_weight)\n",
    "        weight_in_g_tensor = torch.FloatTensor([dish_weight])\n",
    "\n",
    "        img_path = os.path.join(self.img_dir, dish_id, \"rgb.png\")\n",
    "        img = cv2.imread(img_path, cv2.IMREAD_COLOR)\n",
    "        img = np.transpose(img, (2, 0, 1))\n",
    "        # plt.imshow(img)\n",
    "        # plt.show()\n",
    "\n",
    "        img_tensor = torch.FloatTensor(img)\n",
    "        img_tensor = self.transform(img_tensor) if self.transform is not None else img_tensor\n",
    "\n",
    "        return img_tensor, label_tensor, weight_in_g_tensor\n",
    "\n",
    "    def get_num_of_classes(self) -> int:\n",
    "        return self.label_binarizer.classes_.shape[0]"
   ]
  },
  {
   "cell_type": "code",
   "execution_count": 157,
   "metadata": {},
   "outputs": [],
   "source": [
    "# def get_multi_label_accuracy(y_pred: Tensor, y_target: Tensor, thresh = 0.5) -> float:\n",
    "#     y_pred_binary = (y_pred > thresh).float()\n",
    "#     correct = (y_pred_binary == y_target).sum().item()\n",
    "#     return correct / len(y_target)"
   ]
  },
  {
   "cell_type": "code",
   "execution_count": 158,
   "metadata": {},
   "outputs": [
    {
     "name": "stdout",
     "output_type": "stream",
     "text": [
      "[3]\n",
      "[2]\n"
     ]
    },
    {
     "data": {
      "text/plain": [
       "0.75"
      ]
     },
     "execution_count": 158,
     "metadata": {},
     "output_type": "execute_result"
    }
   ],
   "source": [
    "def get_multi_label_accuracy(y_pred: Tensor, y_target: Tensor, thresh = 0.5) -> float:\n",
    "    # Apply threshold and convert predictions to binary format\n",
    "    y_pred_binary = (y_pred > thresh).float()\n",
    "    # print(y_pred_binary)\n",
    "    print(np.count_nonzero(y_pred_binary, axis=1))\n",
    "    # print(y_target)\n",
    "    print(np.count_nonzero(y_target, axis=1))\n",
    "    \n",
    "    # Calculate the number of correct predictions\n",
    "    correct = (y_pred_binary == y_target).sum().item()\n",
    "\n",
    "    # Calculate and return the accuracy\n",
    "    return correct / y_pred_binary.numel() \n",
    "\n",
    "y_pred = torch.FloatTensor([[0.8, 0.3, 0.9, 0.54]])\n",
    "y_target = torch.LongTensor([[0, 0, 1, 1]])\n",
    "get_multi_label_accuracy(y_pred, y_target, thresh = 0.5)"
   ]
  },
  {
   "cell_type": "code",
   "execution_count": 159,
   "metadata": {},
   "outputs": [
    {
     "data": {
      "text/plain": [
       "0.5"
      ]
     },
     "execution_count": 159,
     "metadata": {},
     "output_type": "execute_result"
    }
   ],
   "source": [
    "def get_multi_label_accuracy_positives(y_pred: Tensor, y_target: Tensor, thresh = 0.5) -> float:\n",
    "    # Apply threshold and convert predictions to binary format\n",
    "    y_pred_binary = (y_pred > thresh).float()\n",
    "    # print(y_pred_binary)\n",
    "    # print(y_target)\n",
    "\n",
    "    # Create a mask of where the target tensor is 1\n",
    "    mask = (y_target == 1)\n",
    "\n",
    "    # Use the mask to select only the corresponding predictions \n",
    "    y_pred_binary_masked = y_pred_binary[mask]\n",
    "    y_target_masked = y_target[mask]\n",
    "\n",
    "    # Calculate the number of correct predictions\n",
    "    correct = (y_pred_binary_masked == y_target_masked).sum().item()\n",
    "\n",
    "    # Calculate and return the accuracy\n",
    "    return correct / y_pred_binary_masked.numel()\n",
    "    \n",
    "y_pred = torch.FloatTensor([[0.8, 0.3, 0.9, 0.0]])\n",
    "y_target = torch.LongTensor([[0, 0, 1, 1]])\n",
    "get_multi_label_accuracy_positives(y_pred, y_target, thresh = 0.5)"
   ]
  },
  {
   "cell_type": "code",
   "execution_count": 160,
   "metadata": {},
   "outputs": [],
   "source": [
    "def print_statistics(epoch: int, batch: int, num_batches: int, loss: float, acc: float):\n",
    "    print(f\"EPOCH {epoch + 1} | BATCH {batch + 1} of {num_batches} | LOSS {loss:.4f} | ACCURACY {acc:.4f}\")"
   ]
  },
  {
   "cell_type": "code",
   "execution_count": 161,
   "metadata": {},
   "outputs": [],
   "source": [
    "def average_chunkwise(list, size: int, num_epochs: int):\n",
    "    return [sum(list[i * size: (i + 1) * size]) / size for i in range(num_epochs)]"
   ]
  },
  {
   "cell_type": "code",
   "execution_count": 162,
   "metadata": {},
   "outputs": [],
   "source": [
    "dataset = IngredientDataset(img_dir=IMG_DIR, ingredients_path=INGREDIENTS_PATH, dish_info_path=DISHES_PATH, ignore_dish_ids=empty_folder_names)\n",
    "\n",
    "training_dataset, validation_dataset = random_split(dataset, [0.7, 0.3])\n",
    "\n",
    "training_dataloader = DataLoader(training_dataset, batch_size=32, shuffle=True)\n",
    "validation_dataloader = DataLoader(validation_dataset, batch_size=32, shuffle=False)"
   ]
  },
  {
   "cell_type": "code",
   "execution_count": 163,
   "metadata": {},
   "outputs": [
    {
     "name": "stderr",
     "output_type": "stream",
     "text": [
      "/Users/maxburzer/Desktop/SnackTrack-Backend/.venv/lib/python3.11/site-packages/torchvision/models/_utils.py:208: UserWarning: The parameter 'pretrained' is deprecated since 0.13 and may be removed in the future, please use 'weights' instead.\n",
      "  warnings.warn(\n",
      "/Users/maxburzer/Desktop/SnackTrack-Backend/.venv/lib/python3.11/site-packages/torchvision/models/_utils.py:223: UserWarning: Arguments other than a weight enum or `None` for 'weights' are deprecated since 0.13 and may be removed in the future. The current behavior is equivalent to passing `weights=MobileNet_V3_Small_Weights.IMAGENET1K_V1`. You can also use `weights=MobileNet_V3_Small_Weights.DEFAULT` to get the most up-to-date weights.\n",
      "  warnings.warn(msg)\n"
     ]
    }
   ],
   "source": [
    "num_classes = dataset.get_num_of_classes()\n",
    "model = torchvision.models.mobilenet_v3_small(pretrained=True)\n",
    "\n",
    "num_ftrs = model.classifier[3].in_features\n",
    "\n",
    "model.classifier[3] = nn.Sequential(\n",
    "    nn.Linear(num_ftrs, num_classes),\n",
    "    nn.Softmax()\n",
    ")"
   ]
  },
  {
   "cell_type": "code",
   "execution_count": 164,
   "metadata": {},
   "outputs": [],
   "source": [
    "loss_function = nn.MultiLabelMarginLoss()\n",
    "optimizer = torch.optim.Adam(params=model.parameters(), lr=0.001)\n",
    "\n",
    "# collect stats\n",
    "train_loss = []\n",
    "train_acc = []\n",
    "val_acc = []"
   ]
  },
  {
   "cell_type": "code",
   "execution_count": 167,
   "metadata": {},
   "outputs": [
    {
     "name": "stdout",
     "output_type": "stream",
     "text": [
      "TRAINING...\n"
     ]
    },
    {
     "name": "stderr",
     "output_type": "stream",
     "text": [
      "/var/folders/18/mk89nqqd4t1738cgptywpmw00000gn/T/ipykernel_25417/3341799250.py:22: FutureWarning: Series.__getitem__ treating keys as positions is deprecated. In a future version, integer keys will always be treated as labels (consistent with DataFrame behavior). To access a value by position, use `ser.iloc[pos]`\n",
      "  dish_id = dish[0]\n",
      "/var/folders/18/mk89nqqd4t1738cgptywpmw00000gn/T/ipykernel_25417/3341799250.py:30: FutureWarning: Series.__getitem__ treating keys as positions is deprecated. In a future version, integer keys will always be treated as labels (consistent with DataFrame behavior). To access a value by position, use `ser.iloc[pos]`\n",
      "  dish_weight = dish[2]\n"
     ]
    },
    {
     "name": "stdout",
     "output_type": "stream",
     "text": [
      "EPOCH 1 | BATCH 1 of 77 | LOSS 11.1279 | ACCURACY 0.0000\n",
      "EPOCH 1 | BATCH 2 of 77 | LOSS 6.3544 | ACCURACY 0.0000\n",
      "EPOCH 1 | BATCH 3 of 77 | LOSS 6.6643 | ACCURACY 0.0000\n",
      "EPOCH 1 | BATCH 4 of 77 | LOSS 4.9285 | ACCURACY 0.0000\n",
      "EPOCH 1 | BATCH 5 of 77 | LOSS 6.9123 | ACCURACY 0.0045\n",
      "EPOCH 1 | BATCH 6 of 77 | LOSS 8.2762 | ACCURACY 0.0000\n",
      "EPOCH 1 | BATCH 7 of 77 | LOSS 7.0983 | ACCURACY 0.0000\n",
      "EPOCH 1 | BATCH 8 of 77 | LOSS 8.7721 | ACCURACY 0.0000\n",
      "EPOCH 1 | BATCH 9 of 77 | LOSS 7.1293 | ACCURACY 0.0000\n",
      "EPOCH 1 | BATCH 10 of 77 | LOSS 6.6334 | ACCURACY 0.0000\n",
      "EPOCH 1 | BATCH 11 of 77 | LOSS 5.4865 | ACCURACY 0.0000\n",
      "EPOCH 1 | BATCH 12 of 77 | LOSS 7.1293 | ACCURACY 0.0000\n",
      "EPOCH 1 | BATCH 13 of 77 | LOSS 5.7964 | ACCURACY 0.0000\n",
      "EPOCH 1 | BATCH 14 of 77 | LOSS 5.8894 | ACCURACY 0.0000\n",
      "EPOCH 1 | BATCH 15 of 77 | LOSS 5.8584 | ACCURACY 0.0000\n",
      "EPOCH 1 | BATCH 16 of 77 | LOSS 5.7034 | ACCURACY 0.0000\n",
      "EPOCH 1 | BATCH 17 of 77 | LOSS 8.3692 | ACCURACY 0.0000\n",
      "EPOCH 1 | BATCH 18 of 77 | LOSS 7.4083 | ACCURACY 0.0000\n",
      "EPOCH 1 | BATCH 19 of 77 | LOSS 5.1145 | ACCURACY 0.0000\n",
      "EPOCH 1 | BATCH 20 of 77 | LOSS 8.3382 | ACCURACY 0.0037\n",
      "EPOCH 1 | BATCH 21 of 77 | LOSS 8.1832 | ACCURACY 0.0038\n",
      "EPOCH 1 | BATCH 22 of 77 | LOSS 5.4555 | ACCURACY 0.0000\n",
      "EPOCH 1 | BATCH 23 of 77 | LOSS 8.8341 | ACCURACY 0.0000\n",
      "EPOCH 1 | BATCH 24 of 77 | LOSS 5.7034 | ACCURACY 0.0000\n",
      "EPOCH 1 | BATCH 25 of 77 | LOSS 6.0754 | ACCURACY 0.0000\n",
      "EPOCH 1 | BATCH 26 of 77 | LOSS 7.5013 | ACCURACY 0.0000\n",
      "EPOCH 1 | BATCH 27 of 77 | LOSS 8.9271 | ACCURACY 0.0000\n",
      "EPOCH 1 | BATCH 28 of 77 | LOSS 8.0592 | ACCURACY 0.0000\n",
      "EPOCH 1 | BATCH 29 of 77 | LOSS 4.9285 | ACCURACY 0.0000\n",
      "EPOCH 1 | BATCH 30 of 77 | LOSS 6.4784 | ACCURACY 0.0000\n",
      "EPOCH 1 | BATCH 31 of 77 | LOSS 6.7263 | ACCURACY 0.0000\n",
      "EPOCH 1 | BATCH 32 of 77 | LOSS 6.0444 | ACCURACY 0.0000\n",
      "EPOCH 1 | BATCH 33 of 77 | LOSS 7.0673 | ACCURACY 0.0044\n",
      "EPOCH 1 | BATCH 34 of 77 | LOSS 4.9285 | ACCURACY 0.0000\n",
      "EPOCH 1 | BATCH 35 of 77 | LOSS 8.3072 | ACCURACY 0.0000\n",
      "EPOCH 1 | BATCH 36 of 77 | LOSS 6.9123 | ACCURACY 0.0000\n",
      "EPOCH 1 | BATCH 37 of 77 | LOSS 6.0754 | ACCURACY 0.0000\n",
      "EPOCH 1 | BATCH 38 of 77 | LOSS 7.9662 | ACCURACY 0.0000\n",
      "EPOCH 1 | BATCH 39 of 77 | LOSS 8.0902 | ACCURACY 0.0000\n",
      "EPOCH 1 | BATCH 40 of 77 | LOSS 6.6024 | ACCURACY 0.0000\n",
      "EPOCH 1 | BATCH 41 of 77 | LOSS 6.7263 | ACCURACY 0.0000\n",
      "EPOCH 1 | BATCH 42 of 77 | LOSS 8.6482 | ACCURACY 0.0000\n",
      "EPOCH 1 | BATCH 43 of 77 | LOSS 6.1064 | ACCURACY 0.0000\n",
      "EPOCH 1 | BATCH 44 of 77 | LOSS 7.6253 | ACCURACY 0.0000\n",
      "EPOCH 1 | BATCH 45 of 77 | LOSS 5.9514 | ACCURACY 0.0000\n",
      "EPOCH 1 | BATCH 46 of 77 | LOSS 6.6643 | ACCURACY 0.0000\n",
      "EPOCH 1 | BATCH 47 of 77 | LOSS 9.4851 | ACCURACY 0.0000\n",
      "EPOCH 1 | BATCH 48 of 77 | LOSS 8.3692 | ACCURACY 0.0000\n",
      "EPOCH 1 | BATCH 49 of 77 | LOSS 7.1603 | ACCURACY 0.0000\n",
      "EPOCH 1 | BATCH 50 of 77 | LOSS 8.3072 | ACCURACY 0.0000\n",
      "EPOCH 1 | BATCH 51 of 77 | LOSS 6.2614 | ACCURACY 0.0000\n",
      "EPOCH 1 | BATCH 52 of 77 | LOSS 8.3692 | ACCURACY 0.0000\n",
      "EPOCH 1 | BATCH 53 of 77 | LOSS 7.4083 | ACCURACY 0.0000\n",
      "EPOCH 1 | BATCH 54 of 77 | LOSS 9.3301 | ACCURACY 0.0000\n",
      "EPOCH 1 | BATCH 55 of 77 | LOSS 7.4083 | ACCURACY 0.0000\n",
      "EPOCH 1 | BATCH 56 of 77 | LOSS 7.7492 | ACCURACY 0.0000\n",
      "EPOCH 1 | BATCH 57 of 77 | LOSS 8.5862 | ACCURACY 0.0000\n",
      "EPOCH 1 | BATCH 58 of 77 | LOSS 7.8732 | ACCURACY 0.0000\n",
      "EPOCH 1 | BATCH 59 of 77 | LOSS 7.9972 | ACCURACY 0.0000\n",
      "EPOCH 1 | BATCH 60 of 77 | LOSS 6.0134 | ACCURACY 0.0052\n",
      "EPOCH 1 | BATCH 61 of 77 | LOSS 6.6024 | ACCURACY 0.0000\n",
      "EPOCH 1 | BATCH 62 of 77 | LOSS 8.7721 | ACCURACY 0.0000\n",
      "EPOCH 1 | BATCH 63 of 77 | LOSS 6.0754 | ACCURACY 0.0051\n",
      "EPOCH 1 | BATCH 64 of 77 | LOSS 6.8813 | ACCURACY 0.0000\n",
      "EPOCH 1 | BATCH 65 of 77 | LOSS 8.3692 | ACCURACY 0.0000\n",
      "EPOCH 1 | BATCH 66 of 77 | LOSS 6.4474 | ACCURACY 0.0048\n",
      "EPOCH 1 | BATCH 67 of 77 | LOSS 8.9581 | ACCURACY 0.0000\n",
      "EPOCH 1 | BATCH 68 of 77 | LOSS 5.7964 | ACCURACY 0.0000\n",
      "EPOCH 1 | BATCH 69 of 77 | LOSS 6.3854 | ACCURACY 0.0000\n",
      "EPOCH 1 | BATCH 70 of 77 | LOSS 5.4245 | ACCURACY 0.0000\n",
      "EPOCH 1 | BATCH 71 of 77 | LOSS 9.0821 | ACCURACY 0.0000\n",
      "EPOCH 1 | BATCH 72 of 77 | LOSS 7.7802 | ACCURACY 0.0000\n",
      "EPOCH 1 | BATCH 73 of 77 | LOSS 7.4083 | ACCURACY 0.0000\n",
      "EPOCH 1 | BATCH 74 of 77 | LOSS 6.4164 | ACCURACY 0.0000\n",
      "EPOCH 1 | BATCH 75 of 77 | LOSS 6.1684 | ACCURACY 0.0000\n",
      "EPOCH 1 | BATCH 76 of 77 | LOSS 6.1064 | ACCURACY 0.0000\n",
      "EPOCH 1 | BATCH 77 of 77 | LOSS 6.2219 | ACCURACY 0.0000\n",
      "TESTING...\n",
      "EPOCH 1 | BATCH 1 of 33 | LOSS 0.0000 | ACCURACY 0.0049\n",
      "EPOCH 1 | BATCH 2 of 33 | LOSS 0.0000 | ACCURACY 0.0039\n",
      "EPOCH 1 | BATCH 3 of 33 | LOSS 0.0000 | ACCURACY 0.0000\n",
      "EPOCH 1 | BATCH 4 of 33 | LOSS 0.0000 | ACCURACY 0.0000\n",
      "EPOCH 1 | BATCH 5 of 33 | LOSS 0.0000 | ACCURACY 0.0000\n",
      "EPOCH 1 | BATCH 6 of 33 | LOSS 0.0000 | ACCURACY 0.0000\n",
      "EPOCH 1 | BATCH 7 of 33 | LOSS 0.0000 | ACCURACY 0.0000\n",
      "EPOCH 1 | BATCH 8 of 33 | LOSS 0.0000 | ACCURACY 0.0000\n",
      "EPOCH 1 | BATCH 9 of 33 | LOSS 0.0000 | ACCURACY 0.0000\n",
      "EPOCH 1 | BATCH 10 of 33 | LOSS 0.0000 | ACCURACY 0.0000\n",
      "EPOCH 1 | BATCH 11 of 33 | LOSS 0.0000 | ACCURACY 0.0041\n",
      "EPOCH 1 | BATCH 12 of 33 | LOSS 0.0000 | ACCURACY 0.0000\n",
      "EPOCH 1 | BATCH 13 of 33 | LOSS 0.0000 | ACCURACY 0.0000\n",
      "EPOCH 1 | BATCH 14 of 33 | LOSS 0.0000 | ACCURACY 0.0000\n",
      "EPOCH 1 | BATCH 15 of 33 | LOSS 0.0000 | ACCURACY 0.0000\n",
      "EPOCH 1 | BATCH 16 of 33 | LOSS 0.0000 | ACCURACY 0.0000\n",
      "EPOCH 1 | BATCH 17 of 33 | LOSS 0.0000 | ACCURACY 0.0000\n",
      "EPOCH 1 | BATCH 18 of 33 | LOSS 0.0000 | ACCURACY 0.0000\n",
      "EPOCH 1 | BATCH 19 of 33 | LOSS 0.0000 | ACCURACY 0.0000\n",
      "EPOCH 1 | BATCH 20 of 33 | LOSS 0.0000 | ACCURACY 0.0000\n",
      "EPOCH 1 | BATCH 21 of 33 | LOSS 0.0000 | ACCURACY 0.0000\n",
      "EPOCH 1 | BATCH 22 of 33 | LOSS 0.0000 | ACCURACY 0.0037\n",
      "EPOCH 1 | BATCH 23 of 33 | LOSS 0.0000 | ACCURACY 0.0000\n",
      "EPOCH 1 | BATCH 24 of 33 | LOSS 0.0000 | ACCURACY 0.0055\n",
      "EPOCH 1 | BATCH 25 of 33 | LOSS 0.0000 | ACCURACY 0.0000\n",
      "EPOCH 1 | BATCH 26 of 33 | LOSS 0.0000 | ACCURACY 0.0000\n",
      "EPOCH 1 | BATCH 27 of 33 | LOSS 0.0000 | ACCURACY 0.0000\n",
      "EPOCH 1 | BATCH 28 of 33 | LOSS 0.0000 | ACCURACY 0.0000\n",
      "EPOCH 1 | BATCH 29 of 33 | LOSS 0.0000 | ACCURACY 0.0000\n",
      "EPOCH 1 | BATCH 30 of 33 | LOSS 0.0000 | ACCURACY 0.0000\n",
      "EPOCH 1 | BATCH 31 of 33 | LOSS 0.0000 | ACCURACY 0.0000\n",
      "EPOCH 1 | BATCH 32 of 33 | LOSS 0.0000 | ACCURACY 0.0000\n",
      "EPOCH 1 | BATCH 33 of 33 | LOSS 0.0000 | ACCURACY 0.0000\n"
     ]
    }
   ],
   "source": [
    "num_epochs = 1\n",
    "\n",
    "for epoch in range(num_epochs):\n",
    "    \n",
    "    model.train()\n",
    "    torch.enable_grad()\n",
    "    print(\"TRAINING...\")\n",
    "\n",
    "    for index, (X_train, y_train, y_w_train) in enumerate(training_dataloader):\n",
    "        # move to GPU\n",
    "        X_train = X_train.to(device)\n",
    "        y_train = y_train.to(device)\n",
    "\n",
    "        # forward\n",
    "        y_pred = model(X_train)\n",
    "        loss = loss_function(y_pred, y_train)\n",
    "        acc = get_multi_label_accuracy_positives(y_pred, y_train)\n",
    "\n",
    "        # collect stats\n",
    "        train_loss.append(loss.item())\n",
    "        train_acc.append(acc)\n",
    "        print_statistics(epoch, index, len(training_dataloader), loss.item(), acc)\n",
    "\n",
    "        # backward\n",
    "        optimizer.zero_grad()\n",
    "        loss.backward()\n",
    "        optimizer.step()\n",
    "\n",
    "    model.eval()\n",
    "    torch.no_grad()\n",
    "    print(\"TESTING...\")\n",
    "\n",
    "    for index, (X_val, y_val, y_w_train) in enumerate(validation_dataloader):\n",
    "        # move to GPU\n",
    "        X_val = X_val.to(device)\n",
    "        y_val = y_val.to(device)\n",
    "\n",
    "        # forward\n",
    "        y_pred = model(X_val)\n",
    "        acc = get_multi_label_accuracy_positives(y_pred, y_val)\n",
    "\n",
    "        # collect stats\n",
    "        val_acc.append(acc)\n",
    "        print_statistics(epoch, index, len(validation_dataloader), 0, acc)"
   ]
  },
  {
   "cell_type": "code",
   "execution_count": 201,
   "metadata": {},
   "outputs": [
    {
     "data": {
      "image/png": "[encoded data removed]",
      "text/plain": [
       "<Figure size 1000x500 with 2 Axes>"
      ]
     },
     "metadata": {},
     "output_type": "display_data"
    }
   ],
   "source": [
    "plt.figure(figsize=(10, 5))\n",
    "\n",
    "trained_epochs = len(train_loss) // len(training_dataloader)\n",
    "avg_train_loss = average_chunkwise(train_loss, len(training_dataloader), trained_epochs)\n",
    "avg_train_acc = average_chunkwise(train_acc, len(training_dataloader), trained_epochs)\n",
    "avg_val_acc = average_chunkwise(val_acc, len(validation_dataloader), trained_epochs)\n",
    "\n",
    "plt.subplot(1, 2, 1)\n",
    "plt.plot(avg_train_loss, label=\"loss\")\n",
    "plt.xlabel('Epoch')\n",
    "plt.ylabel('Loss')\n",
    "plt.title('Loss per Epoch')\n",
    "plt.legend()\n",
    "\n",
    "plt.subplot(1, 2, 2)\n",
    "plt.plot(avg_train_acc, label=\"train acc\")\n",
    "plt.plot(avg_val_acc, label=\"val acc\")\n",
    "plt.xlabel('Epoch')\n",
    "plt.ylabel('Accuracy')\n",
    "plt.title('Accuracy per Epoch')\n",
    "plt.legend()\n",
    "\n",
    "plt.show()"
   ]
  },
  {
   "cell_type": "code",
   "execution_count": 205,
   "metadata": {},
   "outputs": [],
   "source": [
    "model = model.cpu()\n",
    "with open('model_state.pt', 'wb') as f: \n",
    "        save(model.state_dict(), f)\n",
    "model = model.to(device)"
   ]
  },
  {
   "cell_type": "code",
   "execution_count": 98,
   "metadata": {},
   "outputs": [],
   "source": [
    "with open('model_state.pt', 'rb') as f: \n",
    "        model.load_state_dict(load(f))  "
   ]
  },
  {
   "cell_type": "code",
   "execution_count": 353,
   "metadata": {},
   "outputs": [],
   "source": [
    "from typing import List, Tuple\n",
    "\n",
    "\n",
    "class Predictor:\n",
    "    def __init__(self, num_classes=247):\n",
    "        self.model = torchvision.models.mobilenet_v3_small()\n",
    "\n",
    "        num_ftrs = self.model.classifier[3].in_features\n",
    "        self.model.classifier[3] = torch.nn.Linear(num_ftrs, num_classes)\n",
    "\n",
    "        with open(\"model_state.pt\", \"rb\") as f:\n",
    "            self.model.load_state_dict(load(f))\n",
    "\n",
    "        with open(\"mlb.pkl\", \"rb\") as f:\n",
    "            self.mlb: MultiLabelBinarizer = pickle.load(f)\n",
    "\n",
    "        self.df = pd.read_csv(\"ingredients_metadata.csv\")\n",
    "\n",
    "    def predict(self, img=None, topk=5) -> List[Tuple[str, float]]:\n",
    "        # output = self.model(img)\n",
    "        tensor = dataset[0][0]\n",
    "        # print(tensor.shape)\n",
    "\n",
    "        output = self.model(tensor[None, :, :, :])\n",
    "        # print(output)\n",
    "\n",
    "        probabilities = torch.nn.functional.softmax(output, dim=1)[0]\n",
    "        # print(probabilities)\n",
    "\n",
    "        top_probs, indices = torch.topk(probabilities, topk)\n",
    "        # print(indices)\n",
    "        # print(top_probs.tolist())\n",
    "\n",
    "        # Create a zeros tensor of the same shape\n",
    "        mask = torch.zeros_like(probabilities)\n",
    "        # print(mask)\n",
    "\n",
    "        # Set the top 1 position to 1\n",
    "        mask[indices] = 1\n",
    "        # print(mask.view(1, -1).shape[1])\n",
    "\n",
    "        ingredient_ids = self.mlb.inverse_transform(mask.view(1, -1))[0]\n",
    "        # print(ingredient_ids)\n",
    "\n",
    "        ingredient_names = [self.df.loc[self.df['id'] == id, 'ingr'].values[0] for id in list(ingredient_ids)] \n",
    "        # print(ingredient_names)\n",
    "\n",
    "        return list(zip(ingredient_names, top_probs.tolist()))"
   ]
  },
  {
   "cell_type": "code",
   "execution_count": 354,
   "metadata": {},
   "outputs": [
    {
     "name": "stderr",
     "output_type": "stream",
     "text": [
      "/var/folders/18/mk89nqqd4t1738cgptywpmw00000gn/T/ipykernel_11965/1207756736.py:21: FutureWarning: Series.__getitem__ treating keys as positions is deprecated. In a future version, integer keys will always be treated as labels (consistent with DataFrame behavior). To access a value by position, use `ser.iloc[pos]`\n",
      "  dish_id = dish[0]\n",
      "/var/folders/18/mk89nqqd4t1738cgptywpmw00000gn/T/ipykernel_11965/1207756736.py:29: FutureWarning: Series.__getitem__ treating keys as positions is deprecated. In a future version, integer keys will always be treated as labels (consistent with DataFrame behavior). To access a value by position, use `ser.iloc[pos]`\n",
      "  dish_weight = dish[2]\n"
     ]
    },
    {
     "data": {
      "text/plain": [
       "[('olives', 0.03650191053748131),\n",
       " ('bell peppers', 0.0290975384414196),\n",
       " ('vinegar', 0.02264178730547428),\n",
       " ('pepper', 0.020832356065511703),\n",
       " ('cherry tomatoes', 0.02059026062488556)]"
      ]
     },
     "execution_count": 354,
     "metadata": {},
     "output_type": "execute_result"
    }
   ],
   "source": [
    "predictor = Predictor()\n",
    "predictor.predict()"
   ]
  }
 ],
 "metadata": {
  "kernelspec": {
   "display_name": ".venv",
   "language": "python",
   "name": "python3"
  },
  "language_info": {
   "codemirror_mode": {
    "name": "ipython",
    "version": 3
   },
   "file_extension": ".py",
   "mimetype": "text/x-python",
   "name": "python",
   "nbconvert_exporter": "python",
   "pygments_lexer": "ipython3",
   "version": "3.11.4"
  }
 },
 "nbformat": 4,
 "nbformat_minor": 2
}
