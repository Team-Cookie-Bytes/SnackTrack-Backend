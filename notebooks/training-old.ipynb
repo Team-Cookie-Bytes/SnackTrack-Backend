{
 "cells": [
  {
   "cell_type": "code",
   "execution_count": 14,
   "metadata": {},
   "outputs": [],
   "source": [
    "import os\n",
    "import sys\n",
    "\n",
    "sys.path.insert(0, '../src')\n",
    "\n",
    "import cv2\n",
    "import pandas as pd\n",
    "import torch\n",
    "import torch.nn as nn\n",
    "\n",
    "from datasets.ingredient_dataset import IngredientDataset\n",
    "from torch.utils.data import DataLoader\n",
    "from sklearn.preprocessing import MultiLabelBinarizer"
   ]
  },
  {
   "cell_type": "code",
   "execution_count": 15,
   "metadata": {},
   "outputs": [],
   "source": [
    "ingredients_path = \"../data/nutrition5k_dataset_nosides/processed/ingredients_metadata.csv\"\n",
    "dishes_info_path = \"../data/nutrition5k_dataset_nosides/processed/dishes_info.csv\"\n",
    "dish_ids_path = \"../data/nutrition5k_dataset_nosides/dish_ids/splits/rgb_train_ids.txt\"\n",
    "img_dir = \"../data/nutrition5k_dataset_nosides/imagery/realsense_overhead/\""
   ]
  },
  {
   "cell_type": "code",
   "execution_count": 16,
   "metadata": {},
   "outputs": [
    {
     "data": {
      "text/plain": [
       "array([508, 122,  26, 524,  94,  23, 189,  54,  29, 328, 291, 520, 161,\n",
       "       462, 525, 312, 513,  43, 448, 514, 152,  45,   6, 116, 471,  31,\n",
       "       347, 453,  32, 523, 526, 515,  14, 367, 349,   8, 192, 440, 128,\n",
       "       437, 335, 433,   7,  21, 244,  36, 148, 518, 112,  27, 510,  13,\n",
       "       517, 201,  46, 126, 124, 133, 332, 540, 257, 434,  11,  92, 341,\n",
       "        25,  74, 485, 203,  77,   5,  73, 180, 380, 535, 528,  15, 392,\n",
       "        10,  72,  38,  30,   1, 121, 521, 516,  28, 475,  37, 251,  47,\n",
       "        52, 320,  12, 529,  49, 527, 205, 522, 441, 519, 428, 194,  33,\n",
       "        80, 213, 511,  39, 538, 539,  34, 472,  16, 532, 155, 187, 306,\n",
       "       140, 473, 153,   4, 377, 275, 179, 534, 457, 162,  35, 507,   2,\n",
       "       512,  42,  82, 129,  58,  41, 421, 458, 338, 545, 543, 502, 484,\n",
       "       238, 495, 264,  50, 541,  70, 531,   3,  59, 425, 166, 141,  95,\n",
       "       498,  60, 402, 294,  40, 105, 357,  81,  67, 337, 319, 415, 262,\n",
       "       423, 364, 297, 113, 342, 372, 455, 273, 463, 102,   9,  19, 409,\n",
       "       542, 137, 154, 200, 318, 221, 243, 537, 536, 245, 413, 208, 177,\n",
       "       196, 546,  17, 375, 287,  98, 281, 442,  76, 254, 549, 551, 279,\n",
       "       456,  51, 314, 371, 174, 321, 555, 159, 214, 252, 359, 506, 466,\n",
       "        87, 228, 481, 101, 168,  18, 185, 385, 530, 110, 220, 136,  89,\n",
       "       444,  55, 249, 217,  57, 494, 117, 393, 550, 100, 476, 553, 487])"
      ]
     },
     "execution_count": 16,
     "metadata": {},
     "output_type": "execute_result"
    }
   ],
   "source": [
    "df = pd.read_csv(ingredients_path)\n",
    "labels = df[\"ingredient_id\"].unique()\n",
    "labels\n"
   ]
  },
  {
   "cell_type": "code",
   "execution_count": null,
   "metadata": {},
   "outputs": [],
   "source": []
  },
  {
   "cell_type": "code",
   "execution_count": 17,
   "metadata": {},
   "outputs": [
    {
     "ename": "NameError",
     "evalue": "name 'pd' is not defined",
     "output_type": "error",
     "traceback": [
      "\u001b[0;31m---------------------------------------------------------------------------\u001b[0m",
      "\u001b[0;31mNameError\u001b[0m                                 Traceback (most recent call last)",
      "Cell \u001b[0;32mIn[17], line 1\u001b[0m\n\u001b[0;32m----> 1\u001b[0m dataset \u001b[38;5;241m=\u001b[39m \u001b[43mIngredientDataset\u001b[49m\u001b[43m(\u001b[49m\u001b[43mimg_dir\u001b[49m\u001b[43m,\u001b[49m\u001b[43m \u001b[49m\u001b[43mingredients_path\u001b[49m\u001b[43m,\u001b[49m\u001b[43m \u001b[49m\u001b[43mdishes_info_path\u001b[49m\u001b[43m)\u001b[49m\n",
      "File \u001b[0;32m~/PycharmProjects/SnackTrack-Backend/notebooks/../src/datasets/ingredient_dataset.py:7\u001b[0m, in \u001b[0;36mIngredientDataset.__init__\u001b[0;34m(self, img_dir, ingredients_path, dish_info_path)\u001b[0m\n\u001b[1;32m      4\u001b[0m \u001b[38;5;28;01mdef\u001b[39;00m \u001b[38;5;21m__init__\u001b[39m(\u001b[38;5;28mself\u001b[39m, img_dir: \u001b[38;5;28mstr\u001b[39m, ingredients_path: \u001b[38;5;28mstr\u001b[39m, dish_info_path: \u001b[38;5;28mstr\u001b[39m):\n\u001b[1;32m      5\u001b[0m     \u001b[38;5;28mself\u001b[39m\u001b[38;5;241m.\u001b[39mimg_dir \u001b[38;5;241m=\u001b[39m img_dir\n\u001b[0;32m----> 7\u001b[0m     \u001b[38;5;28mself\u001b[39m\u001b[38;5;241m.\u001b[39mingredients_df \u001b[38;5;241m=\u001b[39m \u001b[43mpd\u001b[49m\u001b[38;5;241m.\u001b[39mread_csv(ingredients_path)\n\u001b[1;32m      8\u001b[0m     \u001b[38;5;28mself\u001b[39m\u001b[38;5;241m.\u001b[39mdish_info_df \u001b[38;5;241m=\u001b[39m pd\u001b[38;5;241m.\u001b[39mread_csv(dish_info_path)\n",
      "\u001b[0;31mNameError\u001b[0m: name 'pd' is not defined"
     ]
    }
   ],
   "source": [
    "dataset = IngredientDataset(img_dir, ingredients_path, dishes_info_path)"
   ]
  }
 ],
 "metadata": {
  "kernelspec": {
   "display_name": ".venv",
   "language": "python",
   "name": "python3"
  },
  "language_info": {
   "codemirror_mode": {
    "name": "ipython",
    "version": 3
   },
   "file_extension": ".py",
   "mimetype": "text/x-python",
   "name": "python",
   "nbconvert_exporter": "python",
   "pygments_lexer": "ipython3",
   "version": "3.11.4"
  }
 },
 "nbformat": 4,
 "nbformat_minor": 2
}
