{
 "cells": [
  {
   "cell_type": "code",
   "execution_count": 145,
   "metadata": {},
   "outputs": [],
   "source": [
    "import os\n",
    "\n",
    "import cv2\n",
    "import pandas as pd\n",
    "import torch\n",
    "import torch.nn as nn\n",
    "from torch import Tensor\n",
    "from torch.utils.data import DataLoader, Dataset, random_split\n",
    "from sklearn.preprocessing import MultiLabelBinarizer\n",
    "import torchvision\n",
    "\n",
    "import matplotlib.pyplot as plt\n",
    "\n",
    "import numpy as np"
   ]
  },
  {
   "cell_type": "code",
   "execution_count": 146,
   "metadata": {},
   "outputs": [],
   "source": [
    "DATASET_DIR = \"../../data/nutrition5k_dataset_nosides/\"\n",
    "PROCESSED_DIR = os.path.join(DATASET_DIR, \"processed\")\n",
    "\n",
    "IMG_DIR = \"../../data/nutrition5k_dataset_nosides/imagery/realsense_overhead/\"\n",
    "\n",
    "INGREDIENTS_PATH = os.path.join(PROCESSED_DIR, \"ingredients_metadata.csv\")\n",
    "DISHES_PATH = os.path.join(PROCESSED_DIR, \"dishes_info.csv\")"
   ]
  },
  {
   "cell_type": "code",
   "execution_count": 147,
   "metadata": {},
   "outputs": [
    {
     "name": "stdout",
     "output_type": "stream",
     "text": [
      "['dish_1558109714', 'dish_1558109511', 'dish_1557862384']\n"
     ]
    }
   ],
   "source": [
    "def find_empty_directories(directory):\n",
    "    empty_dirs = []\n",
    "    \n",
    "    for dirpath, dirnames, files in os.walk(directory):\n",
    "        if not dirnames and not files:\n",
    "            empty_dirs.append(dirpath.split(\"/\")[-1])\n",
    "    \n",
    "    return empty_dirs\n",
    "\n",
    "# Usage:\n",
    "empty_folder_names = find_empty_directories(IMG_DIR)\n",
    "print(empty_folder_names)"
   ]
  },
  {
   "cell_type": "code",
   "execution_count": 172,
   "metadata": {},
   "outputs": [],
   "source": [
    "def check(str, empty_folder_names):\n",
    "    print(str)\n",
    "    return str in empty_folder_names"
   ]
  },
  {
   "cell_type": "code",
   "execution_count": 181,
   "metadata": {},
   "outputs": [
    {
     "name": "stdout",
     "output_type": "stream",
     "text": [
      "3493\n",
      "3490\n"
     ]
    }
   ],
   "source": [
    "df = pd.read_csv(DISHES_PATH)\n",
    "print(len(df[\"dish_id\"].index))\n",
    "\n",
    "print(len(df[~df[\"dish_id\"].isin(empty_folder_names)].index))\n"
   ]
  },
  {
   "cell_type": "code",
   "execution_count": 148,
   "metadata": {},
   "outputs": [
    {
     "name": "stdout",
     "output_type": "stream",
     "text": [
      "number of classes: 247\n"
     ]
    }
   ],
   "source": [
    "df = pd.read_csv(INGREDIENTS_PATH)\n",
    "labels = df[\"ingredient_id\"]\n",
    "\n",
    "label_binarizer = MultiLabelBinarizer()\n",
    "label_binarizer.fit([labels.to_list()])\n",
    "\n",
    "num_of_classes = label_binarizer.classes_.shape[0]\n",
    "print(\"number of classes:\", num_of_classes)\n",
    "# label_binarizer.transform([[2, 3]])[0]"
   ]
  },
  {
   "cell_type": "code",
   "execution_count": 182,
   "metadata": {},
   "outputs": [],
   "source": [
    "class IngredientDataset(Dataset):\n",
    "    def __init__(self, img_dir: str, ingredients_path: str, dish_info_path: str, transform=None, ignore_dish_ids=[]):\n",
    "        self.img_dir = img_dir\n",
    "\n",
    "        self.ing_df = pd.read_csv(ingredients_path)\n",
    "        self.dish_info_df = pd.read_csv(dish_info_path)\n",
    "\n",
    "        self.ing_df = self.ing_df[~self.ing_df[\"dish_id\"].isin(empty_folder_names)]\n",
    "        self.dish_info_df = self.dish_info_df[~self.dish_info_df[\"dish_id\"].isin(empty_folder_names)]\n",
    "\n",
    "        self.transform = transform\n",
    "\n",
    "        self.label_binarizer = MultiLabelBinarizer()\n",
    "        self.label_binarizer.fit([self.ing_df[\"ingredient_id\"].to_list()])\n",
    "\n",
    "    def __len__(self) -> int:\n",
    "        return len(self.dish_info_df)\n",
    "\n",
    "    def __getitem__(self, index):\n",
    "        dish = self.dish_info_df.iloc[index]\n",
    "        dish_id = dish[0]\n",
    "        # print(dish_id)\n",
    "\n",
    "        ingredient_ids = self.ing_df[self.ing_df[\"dish_id\"] == dish_id][\"ingredient_id\"].values\n",
    "        label_encoded = self.label_binarizer.transform([ingredient_ids])[0]\n",
    "        label_tensor = torch.FloatTensor(label_encoded)\n",
    "        # print(ingredient_ids)\n",
    "\n",
    "        dish_weight = dish[2]\n",
    "        # print(dish_weight)\n",
    "        weight_in_g_tensor = torch.FloatTensor([dish_weight])\n",
    "\n",
    "        img_path = os.path.join(self.img_dir, dish_id, \"rgb.png\")\n",
    "        img = cv2.imread(img_path, cv2.IMREAD_COLOR)\n",
    "        img = np.transpose(img, (2, 0, 1))\n",
    "        # plt.imshow(img)\n",
    "        # plt.show()\n",
    "\n",
    "        img_tensor = torch.FloatTensor(img)\n",
    "        img_tensor = self.transform(img_tensor) if self.transform is not None else img_tensor\n",
    "\n",
    "        return img_tensor, label_tensor, weight_in_g_tensor\n",
    "\n",
    "    def get_num_of_classes(self) -> int:\n",
    "        return self.label_binarizer.classes_.shape[0]"
   ]
  },
  {
   "cell_type": "code",
   "execution_count": 150,
   "metadata": {},
   "outputs": [],
   "source": [
    "def get_accuracy(y_pred: Tensor, y_train: Tensor) -> float:\n",
    "    y_pred_index = torch.argmax(y_pred, 1)\n",
    "    y_train_index = torch.argmax(y_train, 1)\n",
    "    return (y_pred_index == y_train_index).sum().item() / y_pred.shape[0]"
   ]
  },
  {
   "cell_type": "code",
   "execution_count": 151,
   "metadata": {},
   "outputs": [],
   "source": [
    "def print_statistics(epoch: int, batch: int, num_batches: int, loss: float, acc: float):\n",
    "    print(f\"EPOCH {epoch + 1} | BATCH {batch + 1} of {num_batches} | LOSS {loss:.4f} | ACCURACY {acc:.4f}\")"
   ]
  },
  {
   "cell_type": "code",
   "execution_count": 183,
   "metadata": {},
   "outputs": [],
   "source": [
    "dataset = IngredientDataset(img_dir=IMG_DIR, ingredients_path=INGREDIENTS_PATH, dish_info_path=DISHES_PATH)\n",
    "\n",
    "training_dataset, validation_dataset = random_split(dataset, [0.7, 0.3])\n",
    "\n",
    "training_dataloader = DataLoader(training_dataset, batch_size=32, shuffle=True)\n",
    "validation_dataloader = DataLoader(validation_dataset, batch_size=32, shuffle=False)"
   ]
  },
  {
   "cell_type": "code",
   "execution_count": 184,
   "metadata": {},
   "outputs": [
    {
     "name": "stderr",
     "output_type": "stream",
     "text": [
      "/Users/maxburzer/Desktop/SnackTrack-Backend/.venv/lib/python3.11/site-packages/torchvision/models/_utils.py:208: UserWarning: The parameter 'pretrained' is deprecated since 0.13 and may be removed in the future, please use 'weights' instead.\n",
      "  warnings.warn(\n",
      "/Users/maxburzer/Desktop/SnackTrack-Backend/.venv/lib/python3.11/site-packages/torchvision/models/_utils.py:223: UserWarning: Arguments other than a weight enum or `None` for 'weights' are deprecated since 0.13 and may be removed in the future. The current behavior is equivalent to passing `weights=MobileNet_V3_Small_Weights.IMAGENET1K_V1`. You can also use `weights=MobileNet_V3_Small_Weights.DEFAULT` to get the most up-to-date weights.\n",
      "  warnings.warn(msg)\n"
     ]
    }
   ],
   "source": [
    "import ssl\n",
    "ssl._create_default_https_context = ssl._create_unverified_context\n",
    "\n",
    "num_classes = dataset.get_num_of_classes()\n",
    "model = torchvision.models.mobilenet_v3_small(pretrained=True)\n",
    "\n",
    "num_ftrs = model.classifier[3].in_features\n",
    "\n",
    "# Change the output layer to match the custom number of classes\n",
    "model.classifier[3] = torch.nn.Linear(num_ftrs, num_classes)"
   ]
  },
  {
   "cell_type": "code",
   "execution_count": 130,
   "metadata": {},
   "outputs": [],
   "source": [
    "loss_function = nn.CrossEntropyLoss()\n",
    "optimizer = torch.optim.Adam(params=model.parameters(), lr=0.001)\n",
    "\n",
    "# collect stats\n",
    "train_loss = []\n",
    "train_acc = []\n",
    "val_acc = []"
   ]
  },
  {
   "cell_type": "code",
   "execution_count": 131,
   "metadata": {},
   "outputs": [],
   "source": [
    "device = \"cpu\""
   ]
  },
  {
   "cell_type": "code",
   "execution_count": 132,
   "metadata": {},
   "outputs": [
    {
     "name": "stdout",
     "output_type": "stream",
     "text": [
      "TRAINING...\n"
     ]
    },
    {
     "name": "stderr",
     "output_type": "stream",
     "text": [
      "/var/folders/18/mk89nqqd4t1738cgptywpmw00000gn/T/ipykernel_11965/3049931474.py:18: FutureWarning: Series.__getitem__ treating keys as positions is deprecated. In a future version, integer keys will always be treated as labels (consistent with DataFrame behavior). To access a value by position, use `ser.iloc[pos]`\n",
      "  dish_id = dish[0]\n",
      "/var/folders/18/mk89nqqd4t1738cgptywpmw00000gn/T/ipykernel_11965/3049931474.py:26: FutureWarning: Series.__getitem__ treating keys as positions is deprecated. In a future version, integer keys will always be treated as labels (consistent with DataFrame behavior). To access a value by position, use `ser.iloc[pos]`\n",
      "  dish_weight = dish[2]\n"
     ]
    },
    {
     "name": "stdout",
     "output_type": "stream",
     "text": [
      "EPOCH 1 | BATCH 1 of 77 | LOSS 42.2609 | ACCURACY 0.0000\n",
      "EPOCH 1 | BATCH 2 of 77 | LOSS 41.0384 | ACCURACY 0.0000\n",
      "EPOCH 1 | BATCH 3 of 77 | LOSS 36.2374 | ACCURACY 0.0000\n",
      "EPOCH 1 | BATCH 4 of 77 | LOSS 26.5163 | ACCURACY 0.0000\n",
      "EPOCH 1 | BATCH 5 of 77 | LOSS 31.0796 | ACCURACY 0.0000\n",
      "EPOCH 1 | BATCH 6 of 77 | LOSS 39.2444 | ACCURACY 0.0000\n",
      "EPOCH 1 | BATCH 7 of 77 | LOSS 43.7469 | ACCURACY 0.0000\n",
      "EPOCH 1 | BATCH 8 of 77 | LOSS 33.9219 | ACCURACY 0.0000\n",
      "EPOCH 1 | BATCH 9 of 77 | LOSS 26.2179 | ACCURACY 0.0312\n",
      "EPOCH 1 | BATCH 10 of 77 | LOSS 28.8485 | ACCURACY 0.0000\n",
      "EPOCH 1 | BATCH 11 of 77 | LOSS 31.3739 | ACCURACY 0.0000\n",
      "EPOCH 1 | BATCH 12 of 77 | LOSS 35.1429 | ACCURACY 0.0312\n",
      "EPOCH 1 | BATCH 13 of 77 | LOSS 22.0125 | ACCURACY 0.0000\n",
      "EPOCH 1 | BATCH 14 of 77 | LOSS 32.1843 | ACCURACY 0.0312\n",
      "EPOCH 1 | BATCH 15 of 77 | LOSS 35.5405 | ACCURACY 0.0312\n",
      "EPOCH 1 | BATCH 16 of 77 | LOSS 33.5846 | ACCURACY 0.0000\n",
      "EPOCH 1 | BATCH 17 of 77 | LOSS 38.5215 | ACCURACY 0.0000\n",
      "EPOCH 1 | BATCH 18 of 77 | LOSS 33.8183 | ACCURACY 0.0312\n",
      "EPOCH 1 | BATCH 19 of 77 | LOSS 34.3275 | ACCURACY 0.0938\n",
      "EPOCH 1 | BATCH 20 of 77 | LOSS 37.0234 | ACCURACY 0.1875\n",
      "EPOCH 1 | BATCH 21 of 77 | LOSS 36.3207 | ACCURACY 0.0312\n",
      "EPOCH 1 | BATCH 22 of 77 | LOSS 35.1211 | ACCURACY 0.0000\n",
      "EPOCH 1 | BATCH 23 of 77 | LOSS 37.9470 | ACCURACY 0.0938\n",
      "EPOCH 1 | BATCH 24 of 77 | LOSS 40.5253 | ACCURACY 0.0000\n",
      "EPOCH 1 | BATCH 25 of 77 | LOSS 33.1749 | ACCURACY 0.0312\n",
      "EPOCH 1 | BATCH 26 of 77 | LOSS 30.6999 | ACCURACY 0.0312\n",
      "EPOCH 1 | BATCH 27 of 77 | LOSS 28.7909 | ACCURACY 0.0938\n",
      "EPOCH 1 | BATCH 28 of 77 | LOSS 36.2363 | ACCURACY 0.0000\n",
      "EPOCH 1 | BATCH 29 of 77 | LOSS 27.7835 | ACCURACY 0.0000\n",
      "EPOCH 1 | BATCH 30 of 77 | LOSS 26.3241 | ACCURACY 0.2188\n",
      "EPOCH 1 | BATCH 31 of 77 | LOSS 29.2483 | ACCURACY 0.0938\n",
      "EPOCH 1 | BATCH 32 of 77 | LOSS 28.9933 | ACCURACY 0.1562\n",
      "EPOCH 1 | BATCH 33 of 77 | LOSS 31.9539 | ACCURACY 0.0938\n",
      "EPOCH 1 | BATCH 34 of 77 | LOSS 27.1009 | ACCURACY 0.0000\n",
      "EPOCH 1 | BATCH 35 of 77 | LOSS 30.7301 | ACCURACY 0.1562\n",
      "EPOCH 1 | BATCH 36 of 77 | LOSS 21.7693 | ACCURACY 0.1250\n",
      "EPOCH 1 | BATCH 37 of 77 | LOSS 21.5153 | ACCURACY 0.0938\n",
      "EPOCH 1 | BATCH 38 of 77 | LOSS 32.5392 | ACCURACY 0.1250\n",
      "EPOCH 1 | BATCH 39 of 77 | LOSS 33.2657 | ACCURACY 0.3125\n",
      "EPOCH 1 | BATCH 40 of 77 | LOSS 27.2562 | ACCURACY 0.1562\n",
      "EPOCH 1 | BATCH 41 of 77 | LOSS 37.8527 | ACCURACY 0.1875\n"
     ]
    },
    {
     "name": "stderr",
     "output_type": "stream",
     "text": [
      "[ WARN:0@2053.173] global loadsave.cpp:248 findDecoder imread_('../../data/nutrition5k_dataset_nosides/imagery/realsense_overhead/dish_1558109714/rgb.png'): can't open/read file: check file path/integrity\n"
     ]
    },
    {
     "ename": "ValueError",
     "evalue": "axes don't match array",
     "output_type": "error",
     "traceback": [
      "\u001b[0;31m---------------------------------------------------------------------------\u001b[0m",
      "\u001b[0;31mValueError\u001b[0m                                Traceback (most recent call last)",
      "Cell \u001b[0;32mIn[132], line 9\u001b[0m\n\u001b[1;32m      6\u001b[0m torch\u001b[38;5;241m.\u001b[39menable_grad()\n\u001b[1;32m      7\u001b[0m \u001b[38;5;28mprint\u001b[39m(\u001b[38;5;124m\"\u001b[39m\u001b[38;5;124mTRAINING...\u001b[39m\u001b[38;5;124m\"\u001b[39m)\n\u001b[0;32m----> 9\u001b[0m \u001b[43m\u001b[49m\u001b[38;5;28;43;01mfor\u001b[39;49;00m\u001b[43m \u001b[49m\u001b[43mindex\u001b[49m\u001b[43m,\u001b[49m\u001b[43m \u001b[49m\u001b[43m(\u001b[49m\u001b[43mX_train\u001b[49m\u001b[43m,\u001b[49m\u001b[43m \u001b[49m\u001b[43my_train\u001b[49m\u001b[43m,\u001b[49m\u001b[43m \u001b[49m\u001b[43my_w_train\u001b[49m\u001b[43m)\u001b[49m\u001b[43m \u001b[49m\u001b[38;5;129;43;01min\u001b[39;49;00m\u001b[43m \u001b[49m\u001b[38;5;28;43menumerate\u001b[39;49m\u001b[43m(\u001b[49m\u001b[43mtraining_dataloader\u001b[49m\u001b[43m)\u001b[49m\u001b[43m:\u001b[49m\n\u001b[1;32m     10\u001b[0m \u001b[43m    \u001b[49m\u001b[38;5;66;43;03m# move to GPU\u001b[39;49;00m\n\u001b[1;32m     11\u001b[0m \u001b[43m    \u001b[49m\u001b[43mX_train\u001b[49m\u001b[43m \u001b[49m\u001b[38;5;241;43m=\u001b[39;49m\u001b[43m \u001b[49m\u001b[43mX_train\u001b[49m\u001b[38;5;241;43m.\u001b[39;49m\u001b[43mto\u001b[49m\u001b[43m(\u001b[49m\u001b[43mdevice\u001b[49m\u001b[43m)\u001b[49m\n\u001b[1;32m     12\u001b[0m \u001b[43m    \u001b[49m\u001b[43my_train\u001b[49m\u001b[43m \u001b[49m\u001b[38;5;241;43m=\u001b[39;49m\u001b[43m \u001b[49m\u001b[43my_train\u001b[49m\u001b[38;5;241;43m.\u001b[39;49m\u001b[43mto\u001b[49m\u001b[43m(\u001b[49m\u001b[43mdevice\u001b[49m\u001b[43m)\u001b[49m\n",
      "File \u001b[0;32m~/Desktop/SnackTrack-Backend/.venv/lib/python3.11/site-packages/torch/utils/data/dataloader.py:631\u001b[0m, in \u001b[0;36m_BaseDataLoaderIter.__next__\u001b[0;34m(self)\u001b[0m\n\u001b[1;32m    628\u001b[0m \u001b[38;5;28;01mif\u001b[39;00m \u001b[38;5;28mself\u001b[39m\u001b[38;5;241m.\u001b[39m_sampler_iter \u001b[38;5;129;01mis\u001b[39;00m \u001b[38;5;28;01mNone\u001b[39;00m:\n\u001b[1;32m    629\u001b[0m     \u001b[38;5;66;03m# TODO(https://github.com/pytorch/pytorch/issues/76750)\u001b[39;00m\n\u001b[1;32m    630\u001b[0m     \u001b[38;5;28mself\u001b[39m\u001b[38;5;241m.\u001b[39m_reset()  \u001b[38;5;66;03m# type: ignore[call-arg]\u001b[39;00m\n\u001b[0;32m--> 631\u001b[0m data \u001b[38;5;241m=\u001b[39m \u001b[38;5;28;43mself\u001b[39;49m\u001b[38;5;241;43m.\u001b[39;49m\u001b[43m_next_data\u001b[49m\u001b[43m(\u001b[49m\u001b[43m)\u001b[49m\n\u001b[1;32m    632\u001b[0m \u001b[38;5;28mself\u001b[39m\u001b[38;5;241m.\u001b[39m_num_yielded \u001b[38;5;241m+\u001b[39m\u001b[38;5;241m=\u001b[39m \u001b[38;5;241m1\u001b[39m\n\u001b[1;32m    633\u001b[0m \u001b[38;5;28;01mif\u001b[39;00m \u001b[38;5;28mself\u001b[39m\u001b[38;5;241m.\u001b[39m_dataset_kind \u001b[38;5;241m==\u001b[39m _DatasetKind\u001b[38;5;241m.\u001b[39mIterable \u001b[38;5;129;01mand\u001b[39;00m \\\n\u001b[1;32m    634\u001b[0m         \u001b[38;5;28mself\u001b[39m\u001b[38;5;241m.\u001b[39m_IterableDataset_len_called \u001b[38;5;129;01mis\u001b[39;00m \u001b[38;5;129;01mnot\u001b[39;00m \u001b[38;5;28;01mNone\u001b[39;00m \u001b[38;5;129;01mand\u001b[39;00m \\\n\u001b[1;32m    635\u001b[0m         \u001b[38;5;28mself\u001b[39m\u001b[38;5;241m.\u001b[39m_num_yielded \u001b[38;5;241m>\u001b[39m \u001b[38;5;28mself\u001b[39m\u001b[38;5;241m.\u001b[39m_IterableDataset_len_called:\n",
      "File \u001b[0;32m~/Desktop/SnackTrack-Backend/.venv/lib/python3.11/site-packages/torch/utils/data/dataloader.py:675\u001b[0m, in \u001b[0;36m_SingleProcessDataLoaderIter._next_data\u001b[0;34m(self)\u001b[0m\n\u001b[1;32m    673\u001b[0m \u001b[38;5;28;01mdef\u001b[39;00m \u001b[38;5;21m_next_data\u001b[39m(\u001b[38;5;28mself\u001b[39m):\n\u001b[1;32m    674\u001b[0m     index \u001b[38;5;241m=\u001b[39m \u001b[38;5;28mself\u001b[39m\u001b[38;5;241m.\u001b[39m_next_index()  \u001b[38;5;66;03m# may raise StopIteration\u001b[39;00m\n\u001b[0;32m--> 675\u001b[0m     data \u001b[38;5;241m=\u001b[39m \u001b[38;5;28;43mself\u001b[39;49m\u001b[38;5;241;43m.\u001b[39;49m\u001b[43m_dataset_fetcher\u001b[49m\u001b[38;5;241;43m.\u001b[39;49m\u001b[43mfetch\u001b[49m\u001b[43m(\u001b[49m\u001b[43mindex\u001b[49m\u001b[43m)\u001b[49m  \u001b[38;5;66;03m# may raise StopIteration\u001b[39;00m\n\u001b[1;32m    676\u001b[0m     \u001b[38;5;28;01mif\u001b[39;00m \u001b[38;5;28mself\u001b[39m\u001b[38;5;241m.\u001b[39m_pin_memory:\n\u001b[1;32m    677\u001b[0m         data \u001b[38;5;241m=\u001b[39m _utils\u001b[38;5;241m.\u001b[39mpin_memory\u001b[38;5;241m.\u001b[39mpin_memory(data, \u001b[38;5;28mself\u001b[39m\u001b[38;5;241m.\u001b[39m_pin_memory_device)\n",
      "File \u001b[0;32m~/Desktop/SnackTrack-Backend/.venv/lib/python3.11/site-packages/torch/utils/data/_utils/fetch.py:49\u001b[0m, in \u001b[0;36m_MapDatasetFetcher.fetch\u001b[0;34m(self, possibly_batched_index)\u001b[0m\n\u001b[1;32m     47\u001b[0m \u001b[38;5;28;01mif\u001b[39;00m \u001b[38;5;28mself\u001b[39m\u001b[38;5;241m.\u001b[39mauto_collation:\n\u001b[1;32m     48\u001b[0m     \u001b[38;5;28;01mif\u001b[39;00m \u001b[38;5;28mhasattr\u001b[39m(\u001b[38;5;28mself\u001b[39m\u001b[38;5;241m.\u001b[39mdataset, \u001b[38;5;124m\"\u001b[39m\u001b[38;5;124m__getitems__\u001b[39m\u001b[38;5;124m\"\u001b[39m) \u001b[38;5;129;01mand\u001b[39;00m \u001b[38;5;28mself\u001b[39m\u001b[38;5;241m.\u001b[39mdataset\u001b[38;5;241m.\u001b[39m__getitems__:\n\u001b[0;32m---> 49\u001b[0m         data \u001b[38;5;241m=\u001b[39m \u001b[38;5;28;43mself\u001b[39;49m\u001b[38;5;241;43m.\u001b[39;49m\u001b[43mdataset\u001b[49m\u001b[38;5;241;43m.\u001b[39;49m\u001b[43m__getitems__\u001b[49m\u001b[43m(\u001b[49m\u001b[43mpossibly_batched_index\u001b[49m\u001b[43m)\u001b[49m\n\u001b[1;32m     50\u001b[0m     \u001b[38;5;28;01melse\u001b[39;00m:\n\u001b[1;32m     51\u001b[0m         data \u001b[38;5;241m=\u001b[39m [\u001b[38;5;28mself\u001b[39m\u001b[38;5;241m.\u001b[39mdataset[idx] \u001b[38;5;28;01mfor\u001b[39;00m idx \u001b[38;5;129;01min\u001b[39;00m possibly_batched_index]\n",
      "File \u001b[0;32m~/Desktop/SnackTrack-Backend/.venv/lib/python3.11/site-packages/torch/utils/data/dataset.py:399\u001b[0m, in \u001b[0;36mSubset.__getitems__\u001b[0;34m(self, indices)\u001b[0m\n\u001b[1;32m    397\u001b[0m     \u001b[38;5;28;01mreturn\u001b[39;00m \u001b[38;5;28mself\u001b[39m\u001b[38;5;241m.\u001b[39mdataset\u001b[38;5;241m.\u001b[39m__getitems__([\u001b[38;5;28mself\u001b[39m\u001b[38;5;241m.\u001b[39mindices[idx] \u001b[38;5;28;01mfor\u001b[39;00m idx \u001b[38;5;129;01min\u001b[39;00m indices])  \u001b[38;5;66;03m# type: ignore[attr-defined]\u001b[39;00m\n\u001b[1;32m    398\u001b[0m \u001b[38;5;28;01melse\u001b[39;00m:\n\u001b[0;32m--> 399\u001b[0m     \u001b[38;5;28;01mreturn\u001b[39;00m \u001b[43m[\u001b[49m\u001b[38;5;28;43mself\u001b[39;49m\u001b[38;5;241;43m.\u001b[39;49m\u001b[43mdataset\u001b[49m\u001b[43m[\u001b[49m\u001b[38;5;28;43mself\u001b[39;49m\u001b[38;5;241;43m.\u001b[39;49m\u001b[43mindices\u001b[49m\u001b[43m[\u001b[49m\u001b[43midx\u001b[49m\u001b[43m]\u001b[49m\u001b[43m]\u001b[49m\u001b[43m \u001b[49m\u001b[38;5;28;43;01mfor\u001b[39;49;00m\u001b[43m \u001b[49m\u001b[43midx\u001b[49m\u001b[43m \u001b[49m\u001b[38;5;129;43;01min\u001b[39;49;00m\u001b[43m \u001b[49m\u001b[43mindices\u001b[49m\u001b[43m]\u001b[49m\n",
      "File \u001b[0;32m~/Desktop/SnackTrack-Backend/.venv/lib/python3.11/site-packages/torch/utils/data/dataset.py:399\u001b[0m, in \u001b[0;36m<listcomp>\u001b[0;34m(.0)\u001b[0m\n\u001b[1;32m    397\u001b[0m     \u001b[38;5;28;01mreturn\u001b[39;00m \u001b[38;5;28mself\u001b[39m\u001b[38;5;241m.\u001b[39mdataset\u001b[38;5;241m.\u001b[39m__getitems__([\u001b[38;5;28mself\u001b[39m\u001b[38;5;241m.\u001b[39mindices[idx] \u001b[38;5;28;01mfor\u001b[39;00m idx \u001b[38;5;129;01min\u001b[39;00m indices])  \u001b[38;5;66;03m# type: ignore[attr-defined]\u001b[39;00m\n\u001b[1;32m    398\u001b[0m \u001b[38;5;28;01melse\u001b[39;00m:\n\u001b[0;32m--> 399\u001b[0m     \u001b[38;5;28;01mreturn\u001b[39;00m [\u001b[38;5;28;43mself\u001b[39;49m\u001b[38;5;241;43m.\u001b[39;49m\u001b[43mdataset\u001b[49m\u001b[43m[\u001b[49m\u001b[38;5;28;43mself\u001b[39;49m\u001b[38;5;241;43m.\u001b[39;49m\u001b[43mindices\u001b[49m\u001b[43m[\u001b[49m\u001b[43midx\u001b[49m\u001b[43m]\u001b[49m\u001b[43m]\u001b[49m \u001b[38;5;28;01mfor\u001b[39;00m idx \u001b[38;5;129;01min\u001b[39;00m indices]\n",
      "Cell \u001b[0;32mIn[117], line 32\u001b[0m, in \u001b[0;36mIngredientDataset.__getitem__\u001b[0;34m(self, index)\u001b[0m\n\u001b[1;32m     30\u001b[0m img_path \u001b[38;5;241m=\u001b[39m os\u001b[38;5;241m.\u001b[39mpath\u001b[38;5;241m.\u001b[39mjoin(\u001b[38;5;28mself\u001b[39m\u001b[38;5;241m.\u001b[39mimg_dir, dish_id, \u001b[38;5;124m\"\u001b[39m\u001b[38;5;124mrgb.png\u001b[39m\u001b[38;5;124m\"\u001b[39m)\n\u001b[1;32m     31\u001b[0m img \u001b[38;5;241m=\u001b[39m cv2\u001b[38;5;241m.\u001b[39mimread(img_path, cv2\u001b[38;5;241m.\u001b[39mIMREAD_COLOR)\n\u001b[0;32m---> 32\u001b[0m img \u001b[38;5;241m=\u001b[39m \u001b[43mnp\u001b[49m\u001b[38;5;241;43m.\u001b[39;49m\u001b[43mtranspose\u001b[49m\u001b[43m(\u001b[49m\u001b[43mimg\u001b[49m\u001b[43m,\u001b[49m\u001b[43m \u001b[49m\u001b[43m(\u001b[49m\u001b[38;5;241;43m2\u001b[39;49m\u001b[43m,\u001b[49m\u001b[43m \u001b[49m\u001b[38;5;241;43m0\u001b[39;49m\u001b[43m,\u001b[49m\u001b[43m \u001b[49m\u001b[38;5;241;43m1\u001b[39;49m\u001b[43m)\u001b[49m\u001b[43m)\u001b[49m\n\u001b[1;32m     33\u001b[0m \u001b[38;5;66;03m# plt.imshow(img)\u001b[39;00m\n\u001b[1;32m     34\u001b[0m \u001b[38;5;66;03m# plt.show()\u001b[39;00m\n\u001b[1;32m     36\u001b[0m img_tensor \u001b[38;5;241m=\u001b[39m torch\u001b[38;5;241m.\u001b[39mFloatTensor(img)\n",
      "File \u001b[0;32m~/Desktop/SnackTrack-Backend/.venv/lib/python3.11/site-packages/numpy/core/fromnumeric.py:655\u001b[0m, in \u001b[0;36mtranspose\u001b[0;34m(a, axes)\u001b[0m\n\u001b[1;32m    588\u001b[0m \u001b[38;5;129m@array_function_dispatch\u001b[39m(_transpose_dispatcher)\n\u001b[1;32m    589\u001b[0m \u001b[38;5;28;01mdef\u001b[39;00m \u001b[38;5;21mtranspose\u001b[39m(a, axes\u001b[38;5;241m=\u001b[39m\u001b[38;5;28;01mNone\u001b[39;00m):\n\u001b[1;32m    590\u001b[0m \u001b[38;5;250m    \u001b[39m\u001b[38;5;124;03m\"\"\"\u001b[39;00m\n\u001b[1;32m    591\u001b[0m \u001b[38;5;124;03m    Returns an array with axes transposed.\u001b[39;00m\n\u001b[1;32m    592\u001b[0m \n\u001b[0;32m   (...)\u001b[0m\n\u001b[1;32m    653\u001b[0m \n\u001b[1;32m    654\u001b[0m \u001b[38;5;124;03m    \"\"\"\u001b[39;00m\n\u001b[0;32m--> 655\u001b[0m     \u001b[38;5;28;01mreturn\u001b[39;00m \u001b[43m_wrapfunc\u001b[49m\u001b[43m(\u001b[49m\u001b[43ma\u001b[49m\u001b[43m,\u001b[49m\u001b[43m \u001b[49m\u001b[38;5;124;43m'\u001b[39;49m\u001b[38;5;124;43mtranspose\u001b[39;49m\u001b[38;5;124;43m'\u001b[39;49m\u001b[43m,\u001b[49m\u001b[43m \u001b[49m\u001b[43maxes\u001b[49m\u001b[43m)\u001b[49m\n",
      "File \u001b[0;32m~/Desktop/SnackTrack-Backend/.venv/lib/python3.11/site-packages/numpy/core/fromnumeric.py:56\u001b[0m, in \u001b[0;36m_wrapfunc\u001b[0;34m(obj, method, *args, **kwds)\u001b[0m\n\u001b[1;32m     54\u001b[0m bound \u001b[38;5;241m=\u001b[39m \u001b[38;5;28mgetattr\u001b[39m(obj, method, \u001b[38;5;28;01mNone\u001b[39;00m)\n\u001b[1;32m     55\u001b[0m \u001b[38;5;28;01mif\u001b[39;00m bound \u001b[38;5;129;01mis\u001b[39;00m \u001b[38;5;28;01mNone\u001b[39;00m:\n\u001b[0;32m---> 56\u001b[0m     \u001b[38;5;28;01mreturn\u001b[39;00m \u001b[43m_wrapit\u001b[49m\u001b[43m(\u001b[49m\u001b[43mobj\u001b[49m\u001b[43m,\u001b[49m\u001b[43m \u001b[49m\u001b[43mmethod\u001b[49m\u001b[43m,\u001b[49m\u001b[43m \u001b[49m\u001b[38;5;241;43m*\u001b[39;49m\u001b[43margs\u001b[49m\u001b[43m,\u001b[49m\u001b[43m \u001b[49m\u001b[38;5;241;43m*\u001b[39;49m\u001b[38;5;241;43m*\u001b[39;49m\u001b[43mkwds\u001b[49m\u001b[43m)\u001b[49m\n\u001b[1;32m     58\u001b[0m \u001b[38;5;28;01mtry\u001b[39;00m:\n\u001b[1;32m     59\u001b[0m     \u001b[38;5;28;01mreturn\u001b[39;00m bound(\u001b[38;5;241m*\u001b[39margs, \u001b[38;5;241m*\u001b[39m\u001b[38;5;241m*\u001b[39mkwds)\n",
      "File \u001b[0;32m~/Desktop/SnackTrack-Backend/.venv/lib/python3.11/site-packages/numpy/core/fromnumeric.py:45\u001b[0m, in \u001b[0;36m_wrapit\u001b[0;34m(obj, method, *args, **kwds)\u001b[0m\n\u001b[1;32m     43\u001b[0m \u001b[38;5;28;01mexcept\u001b[39;00m \u001b[38;5;167;01mAttributeError\u001b[39;00m:\n\u001b[1;32m     44\u001b[0m     wrap \u001b[38;5;241m=\u001b[39m \u001b[38;5;28;01mNone\u001b[39;00m\n\u001b[0;32m---> 45\u001b[0m result \u001b[38;5;241m=\u001b[39m \u001b[38;5;28;43mgetattr\u001b[39;49m\u001b[43m(\u001b[49m\u001b[43masarray\u001b[49m\u001b[43m(\u001b[49m\u001b[43mobj\u001b[49m\u001b[43m)\u001b[49m\u001b[43m,\u001b[49m\u001b[43m \u001b[49m\u001b[43mmethod\u001b[49m\u001b[43m)\u001b[49m\u001b[43m(\u001b[49m\u001b[38;5;241;43m*\u001b[39;49m\u001b[43margs\u001b[49m\u001b[43m,\u001b[49m\u001b[43m \u001b[49m\u001b[38;5;241;43m*\u001b[39;49m\u001b[38;5;241;43m*\u001b[39;49m\u001b[43mkwds\u001b[49m\u001b[43m)\u001b[49m\n\u001b[1;32m     46\u001b[0m \u001b[38;5;28;01mif\u001b[39;00m wrap:\n\u001b[1;32m     47\u001b[0m     \u001b[38;5;28;01mif\u001b[39;00m \u001b[38;5;129;01mnot\u001b[39;00m \u001b[38;5;28misinstance\u001b[39m(result, mu\u001b[38;5;241m.\u001b[39mndarray):\n",
      "\u001b[0;31mValueError\u001b[0m: axes don't match array"
     ]
    }
   ],
   "source": [
    "num_epochs = 1\n",
    "\n",
    "for epoch in range(num_epochs):\n",
    "    \n",
    "    model.train()\n",
    "    torch.enable_grad()\n",
    "    print(\"TRAINING...\")\n",
    "\n",
    "    for index, (X_train, y_train, y_w_train) in enumerate(training_dataloader):\n",
    "        # move to GPU\n",
    "        X_train = X_train.to(device)\n",
    "        y_train = y_train.to(device)\n",
    "\n",
    "        # forward\n",
    "        y_pred = model(X_train)\n",
    "        loss = loss_function(y_pred, y_train)\n",
    "        acc = get_accuracy(y_pred, y_train)\n",
    "\n",
    "        # collect stats\n",
    "        train_loss.append(loss.item())\n",
    "        train_acc.append(acc)\n",
    "        print_statistics(epoch, index, len(training_dataloader), loss.item(), acc)\n",
    "\n",
    "        # backward\n",
    "        optimizer.zero_grad()\n",
    "        loss.backward()\n",
    "        optimizer.step()\n",
    "\n",
    "    model.eval()\n",
    "    torch.no_grad()\n",
    "    print(\"TESTING...\")\n",
    "\n",
    "    for index, (X_val, y_val, y_w_train) in enumerate(validation_dataloader):\n",
    "        # move to GPU\n",
    "        X_val = X_val.to(device)\n",
    "        y_val = y_val.to(device)\n",
    "\n",
    "        # forward\n",
    "        y_pred = model(X_val)\n",
    "        acc = get_accuracy(y_pred, y_val)\n",
    "\n",
    "        # collect stats\n",
    "        val_acc.append(acc)\n",
    "        print_statistics(epoch, index, len(validation_dataloader), 0, acc)"
   ]
  }
 ],
 "metadata": {
  "kernelspec": {
   "display_name": ".venv",
   "language": "python",
   "name": "python3"
  },
  "language_info": {
   "codemirror_mode": {
    "name": "ipython",
    "version": 3
   },
   "file_extension": ".py",
   "mimetype": "text/x-python",
   "name": "python",
   "nbconvert_exporter": "python",
   "pygments_lexer": "ipython3",
   "version": "3.11.4"
  }
 },
 "nbformat": 4,
 "nbformat_minor": 2
}
